{
 "cells": [
  {
   "cell_type": "code",
   "execution_count": 8,
   "metadata": {},
   "outputs": [],
   "source": [
    "import glob\n",
    "import cv2\n",
    "import re as re\n",
    "import numpy as np\n",
    "\n",
    "x_D, y_D = 500, 500"
   ]
  },
  {
   "cell_type": "code",
   "execution_count": 9,
   "metadata": {},
   "outputs": [],
   "source": [
    "def building_highlighting(image):\n",
    "    gray_image = cv2.cvtColor(image, cv2.COLOR_BGR2GRAY)\n",
    "    # cv2.imshow(\"Gray Image\", gray_image)\n",
    "    # cv2.waitKey(0)\n",
    "    \n",
    "    ret, thresh = cv2.threshold(gray_image, 150, 255, cv2.THRESH_BINARY)\n",
    "    # cv2.imshow(\"Binary Image\", thresh)\n",
    "    # cv2.waitKey(0)\n",
    "    \n",
    "    contours, hierarchy = cv2.findContours(thresh, mode=cv2.RETR_TREE, method=cv2.CHAIN_APPROX_NONE)\n",
    "    img_copy = image.copy()\n",
    "    \n",
    "    cv2.drawContours(image=img_copy, contours=contours, contourIdx=-1, color=(0, 255, 0), thickness=2, lineType=cv2.LINE_AA)\n",
    "    # cv2.imshow(\"Contour Image\", img_copy)\n",
    "    # cv2.waitKey(0)\n",
    "    \n",
    "    return img_copy"
   ]
  },
  {
   "cell_type": "code",
   "execution_count": 11,
   "metadata": {},
   "outputs": [
    {
     "name": "stdout",
     "output_type": "stream",
     "text": [
      "Aegis_Brighton.jpg\n",
      "Aegis_Edgewater.jpg\n",
      "Aegis_Forrest.jpg\n",
      "Aegis_Hendricks.jpg\n",
      "Grandveiw.jpg\n",
      "Mary_Mother_of_God.jpg\n",
      "Queens_Unknown_Site_large.jpg\n",
      "SolarKal_Cranbury-Google_Earth-4-4-2023.jpg\n",
      "SolarKal_East_Brunswick.jpg\n",
      "SolarKal_Maryland-Google_Earth-4_5_2023.jpg\n",
      "Vish_Edison.jpg\n",
      "Vish_New_Brunswick.jpg\n"
     ]
    }
   ],
   "source": [
    "images = glob.glob('../images/*.jpg')\n",
    "\n",
    "for image in images:\n",
    "    image_name = re.sub('../images\\\\\\\\', '', image)\n",
    "    \n",
    "    img = cv2.imread(image)\n",
    "    x, y = img.shape[:2]\n",
    "    img = cv2.resize(img, (0, 0), fx=x_D/x, fy=y_D/y)\n",
    "    cv2.imwrite(f'../images/scaled_images/resized_{image_name}', img)\n",
    "    \n",
    "    img = building_highlighting(img)\n",
    "    cv2.imwrite(f'../images/scaled_images/highlighted_{image_name}', img)"
   ]
  }
 ],
 "metadata": {
  "kernelspec": {
   "display_name": "Python 3",
   "language": "python",
   "name": "python3"
  },
  "language_info": {
   "codemirror_mode": {
    "name": "ipython",
    "version": 3
   },
   "file_extension": ".py",
   "mimetype": "text/x-python",
   "name": "python",
   "nbconvert_exporter": "python",
   "pygments_lexer": "ipython3",
   "version": "3.11.2"
  },
  "orig_nbformat": 4
 },
 "nbformat": 4,
 "nbformat_minor": 2
}
