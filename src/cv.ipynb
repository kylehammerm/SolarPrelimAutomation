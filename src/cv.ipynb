{
 "cells": [
  {
   "cell_type": "code",
   "execution_count": 1,
   "metadata": {},
   "outputs": [],
   "source": [
    "import cv2\n",
    "import numpy as np\n",
    "\n",
    "x_D, y_D = 500, 500"
   ]
  },
  {
   "cell_type": "code",
   "execution_count": 2,
   "metadata": {},
   "outputs": [],
   "source": [
    "def building_highlighting(image):\n",
    "    gray_image = cv2.cvtColor(image, cv2.COLOR_BGR2GRAY)\n",
    "    # cv2.imshow(\"Gray Image\", gray_image)\n",
    "    # cv2.waitKey(0)\n",
    "    \n",
    "    ret, thresh = cv2.threshold(gray_image, 150, 255, cv2.THRESH_BINARY)\n",
    "    # cv2.imshow(\"Binary Image\", thresh)\n",
    "    # cv2.waitKey(0)\n",
    "    \n",
    "    contours, hierarchy = cv2.findContours(thresh, mode=cv2.RETR_TREE, method=cv2.CHAIN_APPROX_NONE)\n",
    "    img_copy = image.copy()\n",
    "    \n",
    "    cv2.drawContours(image=img_copy, contours=contours, contourIdx=-1, color=(0, 255, 0), thickness=2, lineType=cv2.LINE_AA)\n",
    "    # cv2.imshow(\"Contour Image\", img_copy)\n",
    "    # cv2.waitKey(0)\n",
    "    \n",
    "    return img_copy"
   ]
  },
  {
   "attachments": {},
   "cell_type": "markdown",
   "metadata": {},
   "source": [
    "![](../images/Aegis_Hendricks.jpg)"
   ]
  },
  {
   "cell_type": "code",
   "execution_count": 3,
   "metadata": {},
   "outputs": [
    {
     "data": {
      "text/plain": [
       "True"
      ]
     },
     "execution_count": 3,
     "metadata": {},
     "output_type": "execute_result"
    }
   ],
   "source": [
    "image = cv2.imread('../images/Aegis_Hendricks.jpg')\n",
    "\n",
    "x, y = image.shape[1], image.shape[0]\n",
    "\n",
    "image = cv2.resize(image, (0, 0), fx=x_D/x, fy=y_D/y)\n",
    "contoured_image = building_highlighting(image)\n",
    "\n",
    "cv2.imwrite('../images/scaled_images/resized_Aegis_Hendricks.jpg', image)\n",
    "cv2.imwrite('../images/scaled_images/highlighted_Aegis_Hendricks.jpg', contoured_image)"
   ]
  },
  {
   "attachments": {},
   "cell_type": "markdown",
   "metadata": {},
   "source": [
    "![](../images/scaled_images/resized_Aegis_Hendricks.jpg)\n",
    "![](../images/scaled_images/highlighted_Aegis_Hendricks.jpg)"
   ]
  },
  {
   "attachments": {},
   "cell_type": "markdown",
   "metadata": {},
   "source": [
    "![](../images/SolarKal_Maryland-Google_Earth-4_5_2023.jpg)"
   ]
  },
  {
   "cell_type": "code",
   "execution_count": 4,
   "metadata": {},
   "outputs": [
    {
     "data": {
      "text/plain": [
       "True"
      ]
     },
     "execution_count": 4,
     "metadata": {},
     "output_type": "execute_result"
    }
   ],
   "source": [
    "image = cv2.imread('../images/SolarKal_Maryland-Google_Earth-4_5_2023.jpg')\n",
    "\n",
    "image = cv2.resize(image, (0, 0), fx=x_D/x, fy=y_D/y)\n",
    "contoured_image = building_highlighting(image)\n",
    "\n",
    "cv2.imwrite('../images/scaled_images/resized_SolarKal_Maryland.jpg', image)\n",
    "cv2.imwrite('../images/scaled_images/highlighted_SolarKal_Maryland.jpg', contoured_image)"
   ]
  },
  {
   "attachments": {},
   "cell_type": "markdown",
   "metadata": {},
   "source": [
    "![](../images/scaled_images/resized_SolarKal_Maryland.jpg)\n",
    "![](../images/scaled_images/highlighted_SolarKal_Maryland.jpg)"
   ]
  }
 ],
 "metadata": {
  "kernelspec": {
   "display_name": "Python 3",
   "language": "python",
   "name": "python3"
  },
  "language_info": {
   "codemirror_mode": {
    "name": "ipython",
    "version": 3
   },
   "file_extension": ".py",
   "mimetype": "text/x-python",
   "name": "python",
   "nbconvert_exporter": "python",
   "pygments_lexer": "ipython3",
   "version": "3.11.2"
  },
  "orig_nbformat": 4
 },
 "nbformat": 4,
 "nbformat_minor": 2
}
