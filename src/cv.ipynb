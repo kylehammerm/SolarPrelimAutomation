{
 "cells": [
  {
   "cell_type": "code",
   "execution_count": 20,
   "metadata": {},
   "outputs": [],
   "source": [
    "import cv2\n",
    "import numpy as np\n",
    "\n",
    "x_D, y_D = 500, 500"
   ]
  },
  {
   "attachments": {},
   "cell_type": "markdown",
   "metadata": {},
   "source": [
    "![](../images/Aegis_Hendricks.jpg)"
   ]
  },
  {
   "cell_type": "code",
   "execution_count": 21,
   "metadata": {},
   "outputs": [
    {
     "ename": "ValueError",
     "evalue": "too many values to unpack (expected 2)",
     "output_type": "error",
     "traceback": [
      "\u001b[1;31m---------------------------------------------------------------------------\u001b[0m",
      "\u001b[1;31mValueError\u001b[0m                                Traceback (most recent call last)",
      "Cell \u001b[1;32mIn[21], line 3\u001b[0m\n\u001b[0;32m      1\u001b[0m image \u001b[39m=\u001b[39m cv2\u001b[39m.\u001b[39mimread(\u001b[39m'\u001b[39m\u001b[39m../images/Aegis_Hendricks.jpg\u001b[39m\u001b[39m'\u001b[39m)\n\u001b[1;32m----> 3\u001b[0m x, y \u001b[39m=\u001b[39m image\u001b[39m.\u001b[39mshape\n\u001b[0;32m      5\u001b[0m image \u001b[39m=\u001b[39m cv2\u001b[39m.\u001b[39mresize(image, (\u001b[39m0\u001b[39m, \u001b[39m0\u001b[39m), fx\u001b[39m=\u001b[39mx_D\u001b[39m/\u001b[39mx, fy\u001b[39m=\u001b[39my_D\u001b[39m/\u001b[39my)\n\u001b[0;32m      6\u001b[0m cv2\u001b[39m.\u001b[39mimwrite(\u001b[39m'\u001b[39m\u001b[39m../images/scaled_images/resized_Aegis_Hendricks.jpg\u001b[39m\u001b[39m'\u001b[39m, image)\n",
      "\u001b[1;31mValueError\u001b[0m: too many values to unpack (expected 2)"
     ]
    }
   ],
   "source": [
    "image = cv2.imread('../images/Aegis_Hendricks.jpg')\n",
    "\n",
    "x, y = image.shape[1], image.shape[0]\n",
    "\n",
    "image = cv2.resize(image, (0, 0), fx=x_D/x, fy=y_D/y)\n",
    "cv2.imwrite('../images/scaled_images/resized_Aegis_Hendricks.jpg', image)"
   ]
  },
  {
   "attachments": {},
   "cell_type": "markdown",
   "metadata": {},
   "source": [
    "![](../images/scaled_images/resized_Aegis_Hendricks.jpg)"
   ]
  },
  {
   "attachments": {},
   "cell_type": "markdown",
   "metadata": {},
   "source": [
    "![](../images/SolarKal_Maryland-Google_Earth-4_5_2023.jpg)"
   ]
  },
  {
   "cell_type": "code",
   "execution_count": null,
   "metadata": {},
   "outputs": [
    {
     "data": {
      "text/plain": [
       "True"
      ]
     },
     "execution_count": 19,
     "metadata": {},
     "output_type": "execute_result"
    }
   ],
   "source": [
    "image = cv2.imread('../images/SolarKal_Maryland-Google_Earth-4_5_2023.jpg')\n",
    "\n",
    "image = cv2.resize(image, (0, 0), fx=x_D/x, fy=y_D/y)\n",
    "cv2.imwrite('../images/scaled_images/resized_SolarKal_Maryland.jpg', image)"
   ]
  },
  {
   "attachments": {},
   "cell_type": "markdown",
   "metadata": {},
   "source": [
    "![](../images/scaled_images/resized_SolarKal_Maryland.jpg)"
   ]
  }
 ],
 "metadata": {
  "kernelspec": {
   "display_name": "Python 3",
   "language": "python",
   "name": "python3"
  },
  "language_info": {
   "codemirror_mode": {
    "name": "ipython",
    "version": 3
   },
   "file_extension": ".py",
   "mimetype": "text/x-python",
   "name": "python",
   "nbconvert_exporter": "python",
   "pygments_lexer": "ipython3",
   "version": "3.11.2"
  },
  "orig_nbformat": 4
 },
 "nbformat": 4,
 "nbformat_minor": 2
}
